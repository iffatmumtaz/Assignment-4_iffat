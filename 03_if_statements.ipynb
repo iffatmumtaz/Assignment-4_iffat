{
  "nbformat": 4,
  "nbformat_minor": 0,
  "metadata": {
    "colab": {
      "provenance": [],
      "authorship_tag": "ABX9TyPyyWc1YnQnLJB93+mVmt4x",
      "include_colab_link": true
    },
    "kernelspec": {
      "name": "python3",
      "display_name": "Python 3"
    },
    "language_info": {
      "name": "python"
    }
  },
  "cells": [
    {
      "cell_type": "markdown",
      "metadata": {
        "id": "view-in-github",
        "colab_type": "text"
      },
      "source": [
        "<a href=\"https://colab.research.google.com/github/iffatmumtaz/Assignment-4_iffat/blob/main/03_if_statements.ipynb\" target=\"_parent\"><img src=\"https://colab.research.google.com/assets/colab-badge.svg\" alt=\"Open In Colab\"/></a>"
      ]
    },
    {
      "cell_type": "markdown",
      "source": [
        "01_print_events....ye 19 tk counting likhe ga *2 ka mtlb ye ye multipy krega 30 se pehle pehle"
      ],
      "metadata": {
        "id": "CKnNGbWXrKYh"
      }
    },
    {
      "cell_type": "code",
      "source": [
        "def main():\n",
        "    for i in range(20):\n",
        "        print(i * 2)\n",
        "\n",
        "if __name__ == \"__main__\":\n",
        "    main()"
      ],
      "metadata": {
        "colab": {
          "base_uri": "https://localhost:8080/"
        },
        "id": "wmFn9YtIrNVe",
        "outputId": "35a3fb7e-3581-4938-9dfe-58a28197739a"
      },
      "execution_count": 3,
      "outputs": [
        {
          "output_type": "stream",
          "name": "stdout",
          "text": [
            "0\n",
            "2\n",
            "4\n",
            "6\n",
            "8\n",
            "10\n",
            "12\n",
            "14\n",
            "16\n",
            "18\n",
            "20\n",
            "22\n",
            "24\n",
            "26\n",
            "28\n",
            "30\n",
            "32\n",
            "34\n",
            "36\n",
            "38\n"
          ]
        }
      ]
    },
    {
      "cell_type": "markdown",
      "source": [
        "02_international_voting_age"
      ],
      "metadata": {
        "id": "tSFVvuqkr8nq"
      }
    },
    {
      "cell_type": "code",
      "source": [
        "PETURKSBOUIPO_AGE : int = 16\n",
        "STANLAU_AGE : int = 25\n",
        "MAYENGUA_AGE : int = 48\n",
        "\n",
        "def main():\n",
        "\n",
        "    user_age = int(input(\"How old are you? \"))\n",
        "\n",
        "    if user_age >= PETURKSBOUIPO_AGE:\n",
        "        print(\"You can vote in Peturksbouipo where the voting age is \" + str(PETURKSBOUIPO_AGE) + \".\")\n",
        "    else:\n",
        "        print(\"You cannot vote in Peturksbouipo where the voting age is \" + str(PETURKSBOUIPO_AGE) + \".\")\n",
        "\n",
        "    if user_age >= STANLAU_AGE:\n",
        "        print(\"You can vote in Stanlau where the voting age is \" + str(STANLAU_AGE) + \".\")\n",
        "    else:\n",
        "        print(\"You cannot vote in Stanlau where the voting age is \" + str(STANLAU_AGE) + \".\")\n",
        "\n",
        "    if user_age >= MAYENGUA_AGE:\n",
        "        print(\"You can vote in Mayengua where the voting age is \" + str(MAYENGUA_AGE) + \".\")\n",
        "    else:\n",
        "        print(\"You cannot vote in Mayengua where the voting age is \" + str(MAYENGUA_AGE) + \".\")\n",
        "\n",
        "if __name__ == '__main__':\n",
        "    main()"
      ],
      "metadata": {
        "colab": {
          "base_uri": "https://localhost:8080/"
        },
        "id": "zpIoom3csGGM",
        "outputId": "ca0e164d-f361-4139-d2b2-6ed2607e2de2"
      },
      "execution_count": 5,
      "outputs": [
        {
          "output_type": "stream",
          "name": "stdout",
          "text": [
            "How old are you? 18\n",
            "You can vote in Peturksbouipo where the voting age is 16.\n",
            "You cannot vote in Stanlau where the voting age is 25.\n",
            "You cannot vote in Mayengua where the voting age is 48.\n"
          ]
        }
      ]
    },
    {
      "cell_type": "markdown",
      "source": [
        "03_leap_year..leap mtlb jo 4 saal bd ata h. r ye 4 100 400 se divide hojay ye use check krta h"
      ],
      "metadata": {
        "id": "apNBHuXytJ1q"
      }
    },
    {
      "cell_type": "code",
      "source": [
        "def main():\n",
        "    year = int(input('Please input a year: '))\n",
        "\n",
        "    if year % 4 == 0:\n",
        "        if year % 100 == 0:\n",
        "            if year % 400 == 0:\n",
        "                print(\"That's a leap year!\")\n",
        "            else:\n",
        "                print(\"That's not a leap year.\")\n",
        "        else:\n",
        "            print(\"That's a leap year!\")\n",
        "    else:\n",
        "        print(\"That's not a leap year.\")\n",
        "\n",
        "\n",
        "if __name__ == '__main__':\n",
        "    main()"
      ],
      "metadata": {
        "colab": {
          "base_uri": "https://localhost:8080/"
        },
        "id": "oCdLeTT4tLMr",
        "outputId": "77c522da-8318-4fde-a4e9-a71aad17e2df"
      },
      "execution_count": 11,
      "outputs": [
        {
          "output_type": "stream",
          "name": "stdout",
          "text": [
            "Please input a year: 400\n",
            "That's a leap year!\n"
          ]
        }
      ]
    },
    {
      "cell_type": "markdown",
      "source": [
        "04_tall_enough_to_ride."
      ],
      "metadata": {
        "id": "I9vH0lrmvGg8"
      }
    },
    {
      "cell_type": "code",
      "source": [
        "MINIMUM_HEIGHT : int = 60\n",
        "def main():\n",
        "    height = float(input(\"How tall are you? \"))\n",
        "    if height >= MINIMUM_HEIGHT:\n",
        "        print(\"You're tall enough to ride!\")\n",
        "    else:\n",
        "        print(\"You're not tall enough to ride, but maybe next year!\")\n",
        "\n",
        "if __name__ == '__main__':\n",
        "    main()"
      ],
      "metadata": {
        "colab": {
          "base_uri": "https://localhost:8080/"
        },
        "id": "mbWqkXQbvH2q",
        "outputId": "7c5ea954-dffa-478c-ece6-d900b1f832fb"
      },
      "execution_count": 17,
      "outputs": [
        {
          "output_type": "stream",
          "name": "stdout",
          "text": [
            "How tall are you? 40\n",
            "You're not tall enough to ride, but maybe next year!\n"
          ]
        }
      ]
    },
    {
      "cell_type": "markdown",
      "source": [
        "05_random_numbers"
      ],
      "metadata": {
        "id": "586NGjhJvv-q"
      }
    },
    {
      "cell_type": "code",
      "source": [
        "import random\n",
        "\n",
        "N_NUMBERS: int = 10\n",
        "MIN_VALUE: int = 1\n",
        "MAX_VALUE: int = 100\n",
        "\n",
        "def main():\n",
        "\n",
        "    for _ in range(N_NUMBERS):\n",
        "        number = random.randint(MIN_VALUE, MAX_VALUE)\n",
        "        print(number)\n",
        "\n",
        "if __name__ == '__main__':\n",
        "    main()\n"
      ],
      "metadata": {
        "colab": {
          "base_uri": "https://localhost:8080/"
        },
        "id": "cvufOZf9wAWM",
        "outputId": "63b973b4-bf8f-488f-8eff-6b8193499137"
      },
      "execution_count": 30,
      "outputs": [
        {
          "output_type": "stream",
          "name": "stdout",
          "text": [
            "6\n",
            "2\n",
            "48\n",
            "55\n",
            "14\n",
            "8\n",
            "28\n",
            "65\n",
            "85\n",
            "85\n"
          ]
        }
      ]
    }
  ]
}