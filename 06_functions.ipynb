{
  "nbformat": 4,
  "nbformat_minor": 0,
  "metadata": {
    "colab": {
      "provenance": [],
      "authorship_tag": "ABX9TyPY+iM22tO2jJputA7nL9cu",
      "include_colab_link": true
    },
    "kernelspec": {
      "name": "python3",
      "display_name": "Python 3"
    },
    "language_info": {
      "name": "python"
    }
  },
  "cells": [
    {
      "cell_type": "markdown",
      "metadata": {
        "id": "view-in-github",
        "colab_type": "text"
      },
      "source": [
        "<a href=\"https://colab.research.google.com/github/iffatmumtaz/Assignment-4_iffat/blob/main/06_functions.ipynb\" target=\"_parent\"><img src=\"https://colab.research.google.com/assets/colab-badge.svg\" alt=\"Open In Colab\"/></a>"
      ]
    },
    {
      "cell_type": "markdown",
      "source": [
        "00_averages.. ye bech ka no. niklta h phr divide kr deta h"
      ],
      "metadata": {
        "id": "1oVvu-gCbRn9"
      }
    },
    {
      "cell_type": "code",
      "source": [
        "def average(a: float, b: float):\n",
        "    \"\"\"\n",
        "    Returns the number which is half way between a and b\n",
        "    \"\"\"\n",
        "    sum = a + b\n",
        "    return sum / 2\n",
        "\n",
        "def main():\n",
        "    avg_1 = average(0, 10)\n",
        "    avg_2 = average(8, 10)\n",
        "\n",
        "    final = average(avg_1, avg_2)\n",
        "    print(\"avg_1\", avg_1)\n",
        "    print(\"avg_2\", avg_2)\n",
        "    print(\"final\", final)\n",
        "\n",
        "\n",
        "if __name__ == '__main__':\n",
        "    main()"
      ],
      "metadata": {
        "colab": {
          "base_uri": "https://localhost:8080/"
        },
        "id": "GAGEuPfwbV_S",
        "outputId": "9cd3707c-b0ea-40ab-aaf7-231d44c6b4c3"
      },
      "execution_count": null,
      "outputs": [
        {
          "output_type": "stream",
          "name": "stdout",
          "text": [
            "avg_1 5.0\n",
            "avg_2 9.0\n",
            "final 7.0\n"
          ]
        }
      ]
    },
    {
      "cell_type": "markdown",
      "source": [
        "01_chaotic_counting"
      ],
      "metadata": {
        "id": "9FRByk78ck7C"
      }
    },
    {
      "cell_type": "code",
      "source": [
        "import random  # Random module import karna zaroori hai\n",
        "\n",
        "DONE_LIKELIHOOD = 0.3\n",
        "\n",
        "def chaotic_counting():\n",
        "    for i in range(10):\n",
        "        curr_num = i + 1\n",
        "        if done():\n",
        "            return\n",
        "        print(curr_num)\n",
        "\n",
        "def done():\n",
        "    \"\"\" Returns True with a probability of DONE_LIKELIHOOD \"\"\"\n",
        "    if random.random() < DONE_LIKELIHOOD:\n",
        "        return True\n",
        "    return False\n",
        "\n",
        "def main():\n",
        "    print(\"I'm going to count until 10 or until I feel like stopping, whichever comes first.\")\n",
        "    chaotic_counting()\n",
        "    print(\"I'm done\")\n",
        "\n",
        "if __name__ == \"__main__\":\n",
        "    main()"
      ],
      "metadata": {
        "colab": {
          "base_uri": "https://localhost:8080/"
        },
        "id": "XlfzEqlbcmyg",
        "outputId": "b9020061-543c-4b78-d7ac-0015b1df3d54"
      },
      "execution_count": 11,
      "outputs": [
        {
          "output_type": "stream",
          "name": "stdout",
          "text": [
            "I'm going to count until 10 or until I feel like stopping, whichever comes first.\n",
            "I'm done\n"
          ]
        }
      ]
    },
    {
      "cell_type": "markdown",
      "source": [
        "02_count_even..Ye program user se integers leta hai, aur phir batata hai ke unmein se kitne even numbers (2 se divide hone wale numbers) hain."
      ],
      "metadata": {
        "id": "5mCEoBBg8JbT"
      }
    },
    {
      "cell_type": "code",
      "source": [
        "\n",
        "def count_even(lst):\n",
        "\n",
        "    count = 0\n",
        "    for num in lst:\n",
        "        if num % 2 == 0:\n",
        "            count += 1\n",
        "\n",
        "\n",
        "    print(count)\n",
        "\n",
        "def get_list_of_ints():\n",
        "\n",
        "    lst = []\n",
        "\n",
        "\n",
        "    user_input = input(\"Enter an integer or press enter to stop: \")\n",
        "    while user_input != \"\":\n",
        "        lst.append(int(user_input))\n",
        "        user_input = input(\"Enter an integer or press enter to stop: \")\n",
        "    return lst\n",
        "\n",
        "def main():\n",
        "    lst = get_list_of_ints()\n",
        "\n",
        "    count_even(lst)\n",
        "\n",
        "\n",
        "if __name__ == '__main__':\n",
        "    main()"
      ],
      "metadata": {
        "colab": {
          "base_uri": "https://localhost:8080/"
        },
        "id": "2DuE6brb8RGG",
        "outputId": "36608975-9e39-4aef-caba-77ccaac0c5c0"
      },
      "execution_count": 21,
      "outputs": [
        {
          "output_type": "stream",
          "name": "stdout",
          "text": [
            "Enter an integer or press enter to stop: 6\n",
            "Enter an integer or press enter to stop: 3\n",
            "Enter an integer or press enter to stop: 2\n",
            "Enter an integer or press enter to stop: 5\n",
            "Enter an integer or press enter to stop: \n",
            "2\n"
          ]
        }
      ]
    },
    {
      "cell_type": "markdown",
      "source": [
        "04_double..ye ap k inte ko double kr k btata h"
      ],
      "metadata": {
        "id": "2vZFRMeq_Eo-"
      }
    },
    {
      "cell_type": "code",
      "source": [
        "def double(num: int):\n",
        "    return num * 2\n",
        "\n",
        "def main():\n",
        "    num = int(input(\"Enter a number: \"))\n",
        "    num_times_2 = double(num)\n",
        "    print(\"Double that is\", num_times_2)\n",
        "\n",
        "if __name__ == '__main__':\n",
        "    main()"
      ],
      "metadata": {
        "colab": {
          "base_uri": "https://localhost:8080/"
        },
        "id": "rDDA_gaP_KI-",
        "outputId": "3b57bbf8-89f8-45cc-9c43-8833f85ae2a6"
      },
      "execution_count": 23,
      "outputs": [
        {
          "output_type": "stream",
          "name": "stdout",
          "text": [
            "Enter a number: 6\n",
            "Double that is 12\n"
          ]
        }
      ]
    },
    {
      "cell_type": "markdown",
      "source": [
        "05_get_name"
      ],
      "metadata": {
        "id": "Xv75zZmj_fT8"
      }
    },
    {
      "cell_type": "code",
      "source": [
        "def get_name():\n",
        "    return \"Iffat\"\n",
        "\n",
        "\n",
        "def main():\n",
        "    name = get_name()\n",
        "    print(\"My self\", name, \"! 🤠\")\n",
        "\n",
        "if __name__ == '__main__':\n",
        "    main()"
      ],
      "metadata": {
        "colab": {
          "base_uri": "https://localhost:8080/"
        },
        "id": "kql-qxsF_lVX",
        "outputId": "27cf31c7-9ef1-421b-c862-57712bebc0ae"
      },
      "execution_count": 26,
      "outputs": [
        {
          "output_type": "stream",
          "name": "stdout",
          "text": [
            "My self Iffat ! 🤠\n"
          ]
        }
      ]
    },
    {
      "cell_type": "markdown",
      "source": [
        "06_is_odd...ye even or odd dekh kr print kr rha h"
      ],
      "metadata": {
        "id": "oDa7FbBb_-ci"
      }
    },
    {
      "cell_type": "code",
      "source": [
        "def main():\n",
        "    for i in range(10):\n",
        "        if is_odd(i):\n",
        "            print('odd')\n",
        "        else:\n",
        "            print('even')\n",
        "\n",
        "def is_odd(value: int):\n",
        "\n",
        "\n",
        "    remainder = value % 2\n",
        "    return remainder == 1\n",
        "\n",
        "if __name__ == '__main__':\n",
        "    main()"
      ],
      "metadata": {
        "id": "geZKQYzsACIW"
      },
      "execution_count": null,
      "outputs": []
    },
    {
      "cell_type": "markdown",
      "source": [
        "07_print_divisor...Ye program user se ek number leta hai aur us number ke saare divisors (yaani wo numbers jo usay poori tarah divide karte hain) print karta hai."
      ],
      "metadata": {
        "id": "unpQgyDGA0MD"
      }
    },
    {
      "cell_type": "code",
      "source": [
        "def print_divisors(num: int):\n",
        "    print(\"Here are the divisors of\", num)\n",
        "    for i in range(num):\n",
        "        curr_divisor = i + 1\n",
        "        if num % curr_divisor == 0:\n",
        "            print(curr_divisor)\n",
        "\n",
        "def main():\n",
        "    num = int(input(\"Enter a number: \"))\n",
        "    print_divisors(num)\n",
        "\n",
        "\n",
        "if __name__ == '__main__':\n",
        "    main()"
      ],
      "metadata": {
        "id": "jfJ0d53AA96S"
      },
      "execution_count": null,
      "outputs": []
    },
    {
      "cell_type": "markdown",
      "source": [
        "08_print_multiple...ye user se msg likhwata h phr int pochta h kitni br chlana h msg ko phr utni br print kr dega"
      ],
      "metadata": {
        "id": "ZgcSAsabCnyJ"
      }
    },
    {
      "cell_type": "code",
      "source": [
        "def print_multiple(message: str, repeats: int):\n",
        "    for i in range(repeats):\n",
        "        print(message)\n",
        "\n",
        "def main():\n",
        "    message = input(\"Please type a message: \")\n",
        "    repeats = int(input(\"Enter a number of times to repeat your message: \"))\n",
        "    print_multiple(message, repeats)\n",
        "\n",
        "\n",
        "\n",
        "if __name__ == '__main__':\n",
        "    main()\n"
      ],
      "metadata": {
        "colab": {
          "base_uri": "https://localhost:8080/"
        },
        "id": "SL4CT-mZCrCe",
        "outputId": "c98e05aa-aa41-4a03-b82e-f26f3d7db9a6"
      },
      "execution_count": 32,
      "outputs": [
        {
          "output_type": "stream",
          "name": "stdout",
          "text": [
            "Please type a message: hello jan\n",
            "Enter a number of times to repeat your message: 7\n",
            "hello jan\n",
            "hello jan\n",
            "hello jan\n",
            "hello jan\n",
            "hello jan\n",
            "hello jan\n",
            "hello jan\n"
          ]
        }
      ]
    },
    {
      "cell_type": "markdown",
      "source": [
        "09_sentence_generator"
      ],
      "metadata": {
        "id": "QiHIYn63EEKh"
      }
    },
    {
      "cell_type": "code",
      "source": [
        "def make_sentence(word, part_of_speech):\n",
        "    if part_of_speech == 0:\n",
        "        # noun\n",
        "        print(\"I am excited to add this \" + word + \" to my vast collection of them!\")\n",
        "    elif part_of_speech == 1:\n",
        "        # verb\n",
        "        print(\"It's so nice outside today it makes me want to \" + word + \"!\")\n",
        "    elif part_of_speech == 2:\n",
        "        # adjective\n",
        "        print(\"Looking out my window, the sky is big and \" + word + \"!\")\n",
        "    else:\n",
        "\n",
        "        print(\"Part of speech must be 0, 1, or 2! Can't make a sentence.\")\n",
        "\n",
        "\n",
        "\n",
        "def main():\n",
        "    word :  str = input(\"Please type a noun, verb, or adjective: \")\n",
        "    print(\"Is this a noun, verb, or adjective?\")\n",
        "    part_of_speech = int(input(\"Type 0 for noun, 1 for verb, 2 for adjective: \"))\n",
        "    make_sentence(word, part_of_speech)\n",
        "\n",
        "if __name__ == '__main__':\n",
        "    main()\n"
      ],
      "metadata": {
        "colab": {
          "base_uri": "https://localhost:8080/"
        },
        "id": "m9qZAQEWEHJb",
        "outputId": "b986521b-ea8a-4763-e2ac-2fa890480cb9"
      },
      "execution_count": 35,
      "outputs": [
        {
          "output_type": "stream",
          "name": "stdout",
          "text": [
            "Please type a noun, verb, or adjective: jbskdb\n",
            "Is this a noun, verb, or adjective?\n",
            "Type 0 for noun, 1 for verb, 2 for adjective: 2\n",
            "Looking out my window, the sky is big and jbskdb!\n"
          ]
        }
      ]
    },
    {
      "cell_type": "markdown",
      "source": [
        "10_print_ones_digit"
      ],
      "metadata": {
        "id": "FhIYftSPFCea"
      }
    },
    {
      "cell_type": "code",
      "source": [
        "def print_ones_digit(num):\n",
        "    print(\"The ones digit is\", num % 10)\n",
        "\n",
        "\n",
        "def main():\n",
        "    num = int(input(\"Enter a number: \"))\n",
        "    print_ones_digit(num)\n",
        "\n",
        "\n",
        "if __name__ == '__main__':\n",
        "    main()\n"
      ],
      "metadata": {
        "colab": {
          "base_uri": "https://localhost:8080/"
        },
        "id": "6s7iYCHuFHMD",
        "outputId": "f5c1fb4d-95cc-42c8-91ce-9beca5dd266b"
      },
      "execution_count": 37,
      "outputs": [
        {
          "output_type": "stream",
          "name": "stdout",
          "text": [
            "Enter a number: 56\n",
            "The ones digit is 6\n"
          ]
        }
      ]
    }
  ]
}